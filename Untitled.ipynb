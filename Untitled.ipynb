{
 "cells": [
  {
   "cell_type": "code",
   "execution_count": 25,
   "metadata": {
    "collapsed": true
   },
   "outputs": [],
   "source": [
    "import pandas as pd\n",
    "import numpy as np"
   ]
  },
  {
   "cell_type": "code",
   "execution_count": 51,
   "metadata": {},
   "outputs": [
    {
     "data": {
      "text/html": [
       "<div style=\"max-height:1000px;max-width:1500px;overflow:auto;\">\n",
       "<table border=\"1\" class=\"dataframe\">\n",
       "  <thead>\n",
       "    <tr style=\"text-align: right;\">\n",
       "      <th></th>\n",
       "      <th>0</th>\n",
       "      <th>1</th>\n",
       "      <th>2</th>\n",
       "      <th>3</th>\n",
       "      <th>4</th>\n",
       "      <th>5</th>\n",
       "    </tr>\n",
       "  </thead>\n",
       "  <tbody>\n",
       "    <tr>\n",
       "      <th>0</th>\n",
       "      <td>9904312</td>\n",
       "      <td>9631482</td>\n",
       "      <td>9762546</td>\n",
       "      <td>9853972</td>\n",
       "      <td>수도권</td>\n",
       "      <td>0.0283</td>\n",
       "    </tr>\n",
       "    <tr>\n",
       "      <th>1</th>\n",
       "      <td>3448737</td>\n",
       "      <td>3393191</td>\n",
       "      <td>3512547</td>\n",
       "      <td>3655437</td>\n",
       "      <td>경상권</td>\n",
       "      <td>0.0163</td>\n",
       "    </tr>\n",
       "    <tr>\n",
       "      <th>2</th>\n",
       "      <td>2890451</td>\n",
       "      <td>2632035</td>\n",
       "      <td>2517680</td>\n",
       "      <td>2466338</td>\n",
       "      <td>수도권</td>\n",
       "      <td>0.0982</td>\n",
       "    </tr>\n",
       "    <tr>\n",
       "      <th>3</th>\n",
       "      <td>2466052</td>\n",
       "      <td>2431774</td>\n",
       "      <td>2456016</td>\n",
       "      <td>2473990</td>\n",
       "      <td>경상권</td>\n",
       "      <td>0.0141</td>\n",
       "    </tr>\n",
       "  </tbody>\n",
       "</table>\n",
       "</div>"
      ],
      "text/plain": [
       "         0        1        2        3    4       5\n",
       "0  9904312  9631482  9762546  9853972  수도권  0.0283\n",
       "1  3448737  3393191  3512547  3655437  경상권  0.0163\n",
       "2  2890451  2632035  2517680  2466338  수도권  0.0982\n",
       "3  2466052  2431774  2456016  2473990  경상권  0.0141"
      ]
     },
     "execution_count": 51,
     "metadata": {},
     "output_type": "execute_result"
    }
   ],
   "source": [
    "data = {\n",
    "    0: [9904312, 3448737, 2890451, 2466052],\n",
    "    1: [9631482, 3393191, 2632035, 2431774],\n",
    "    2: [9762546, 3512547, 2517680, 2456016],\n",
    "    3: [9853972, 3655437, 2466338, 2473990],\n",
    "    4: [\"수도권\", \"경상권\", \"수도권\", \"경상권\"],\n",
    "    5: [0.0283, 0.0163, 0.0982, 0.0141]\n",
    "}\n",
    "#columns = [\"지역\", \"2015\", \"2010\", \"2005\", \"2000\", \"2010-2015 증가율\"]\n",
    "\n",
    "#index = [\"서울\", \"부산\", \"인천\", \"대구\"]\n",
    "df = pd.DataFrame(data)\n",
    "df"
   ]
  },
  {
   "cell_type": "code",
   "execution_count": 52,
   "metadata": {
    "collapsed": true
   },
   "outputs": [],
   "source": [
    "a_list=[]"
   ]
  },
  {
   "cell_type": "code",
   "execution_count": 55,
   "metadata": {},
   "outputs": [
    {
     "data": {
      "text/plain": [
       "[{0: [9904312, 3448737, 2890451, 2466052]},\n",
       " {1: [9631482, 3393191, 2632035, 2431774]},\n",
       " {2: [9762546, 3512547, 2517680, 2456016]},\n",
       " {3: [9853972, 3655437, 2466338, 2473990]},\n",
       " {4: ['\\xec\\x88\\x98\\xeb\\x8f\\x84\\xea\\xb6\\x8c',\n",
       "   '\\xea\\xb2\\xbd\\xec\\x83\\x81\\xea\\xb6\\x8c',\n",
       "   '\\xec\\x88\\x98\\xeb\\x8f\\x84\\xea\\xb6\\x8c',\n",
       "   '\\xea\\xb2\\xbd\\xec\\x83\\x81\\xea\\xb6\\x8c']},\n",
       " {0: [9904312, 3448737, 2890451, 2466052]},\n",
       " {1: [9631482, 3393191, 2632035, 2431774]},\n",
       " {2: [9762546, 3512547, 2517680, 2456016]},\n",
       " {3: [9853972, 3655437, 2466338, 2473990]},\n",
       " {4: ['\\xec\\x88\\x98\\xeb\\x8f\\x84\\xea\\xb6\\x8c',\n",
       "   '\\xea\\xb2\\xbd\\xec\\x83\\x81\\xea\\xb6\\x8c',\n",
       "   '\\xec\\x88\\x98\\xeb\\x8f\\x84\\xea\\xb6\\x8c',\n",
       "   '\\xea\\xb2\\xbd\\xec\\x83\\x81\\xea\\xb6\\x8c']}]"
      ]
     },
     "execution_count": 55,
     "metadata": {},
     "output_type": "execute_result"
    }
   ],
   "source": [
    "for i in range(2000):\n",
    "    a= {}\n",
    "    idx = list(dlist_r2.columns)\n",
    "    a[idx[i]] = list(dlist_r2[idx[i]])\n",
    "    #a(idx) = list(data[i])\n",
    "    a_list.append(a)\n",
    "a_list"
   ]
  },
  {
   "cell_type": "code",
   "execution_count": 53,
   "metadata": {},
   "outputs": [],
   "source": [
    "for i in range(5):\n",
    "    a= {}\n",
    "    idx = str(i)\n",
    "    \n",
    "    idx = list(df.columns)\n",
    "    a[idx[i]] = list(df[idx[i]])\n",
    "    #a(idx) = list(data[i])\n",
    "    a_list.append(a)\n",
    "    "
   ]
  },
  {
   "cell_type": "code",
   "execution_count": 54,
   "metadata": {},
   "outputs": [
    {
     "data": {
      "text/plain": [
       "[{0: [9904312, 3448737, 2890451, 2466052]},\n",
       " {1: [9631482, 3393191, 2632035, 2431774]},\n",
       " {2: [9762546, 3512547, 2517680, 2456016]},\n",
       " {3: [9853972, 3655437, 2466338, 2473990]},\n",
       " {4: ['\\xec\\x88\\x98\\xeb\\x8f\\x84\\xea\\xb6\\x8c',\n",
       "   '\\xea\\xb2\\xbd\\xec\\x83\\x81\\xea\\xb6\\x8c',\n",
       "   '\\xec\\x88\\x98\\xeb\\x8f\\x84\\xea\\xb6\\x8c',\n",
       "   '\\xea\\xb2\\xbd\\xec\\x83\\x81\\xea\\xb6\\x8c']}]"
      ]
     },
     "execution_count": 54,
     "metadata": {},
     "output_type": "execute_result"
    }
   ],
   "source": [
    "a_list"
   ]
  },
  {
   "cell_type": "code",
   "execution_count": null,
   "metadata": {
    "collapsed": true
   },
   "outputs": [],
   "source": []
  }
 ],
 "metadata": {
  "kernelspec": {
   "display_name": "Python 2",
   "language": "python",
   "name": "python2"
  },
  "language_info": {
   "codemirror_mode": {
    "name": "ipython",
    "version": 2
   },
   "file_extension": ".py",
   "mimetype": "text/x-python",
   "name": "python",
   "nbconvert_exporter": "python",
   "pygments_lexer": "ipython2",
   "version": "2.7.13"
  }
 },
 "nbformat": 4,
 "nbformat_minor": 2
}
