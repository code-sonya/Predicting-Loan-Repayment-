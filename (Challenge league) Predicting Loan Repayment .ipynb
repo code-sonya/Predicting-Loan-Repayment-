{
 "cells": [
  {
   "cell_type": "markdown",
   "metadata": {},
   "source": [
    "# 제 5회 빅콘테스 챌린지리그"
   ]
  },
  {
   "cell_type": "markdown",
   "metadata": {},
   "source": [
    "- 문제 : 보험, 통신, 신용평가사 (개인정보 비식별)결합데이터를 활용한 대출상환 예측 알고리즘 개발\n",
    "- 제공데이터 및 내용 : 개인정보 비식별화 한 SK텔레콤 데이터등 , 개인정보 비식별화 한 SCI평가정보 및 한화생명 데이터 등\n",
    "- 참가대상 : 대학생 이상 일반인포함 \n",
    "- http://contest.kbig.kr/sub/sub_question.php"
   ]
  },
  {
   "cell_type": "code",
   "execution_count": 10,
   "metadata": {
    "collapsed": true
   },
   "outputs": [],
   "source": [
    "import pandas as pd\n",
    "import numpy as np\n",
    "import matplotlib.pyplot as plt\n",
    "import seaborn as sns\n",
    "color = sns.color_palette()\n",
    "\n",
    "%matplotlib inline"
   ]
  },
  {
   "cell_type": "markdown",
   "metadata": {},
   "source": [
    "# Data"
   ]
  },
  {
   "cell_type": "markdown",
   "metadata": {},
   "source": [
    "![data](https://files.slack.com/files-tmb/T5AP56SQ3-F6KH2CRUG-10cc1c9afd/_______________________________2017-08-09______________9.10.59_1024.png)"
   ]
  },
  {
   "cell_type": "markdown",
   "metadata": {},
   "source": [
    "![data](https://files.slack.com/files-tmb/T5AP56SQ3-F6KH2DK6U-4852329394/_______________________________2017-08-09______________9.11.38_1024.png)"
   ]
  },
  {
   "cell_type": "markdown",
   "metadata": {},
   "source": [
    "![data컬럼설명](https://files.slack.com/files-tmb/T5AP56SQ3-F6L6VB5LJ-5e28475264/_______________________________2017-08-09______________9.11.58_1024.png)"
   ]
  },
  {
   "cell_type": "code",
   "execution_count": 3,
   "metadata": {
    "collapsed": true,
    "scrolled": true
   },
   "outputs": [],
   "source": [
    "train = pd.read_csv('Data_set.csv', encoding='cp949')"
   ]
  },
  {
   "cell_type": "code",
   "execution_count": 35,
   "metadata": {},
   "outputs": [
    {
     "data": {
      "text/html": [
       "<div>\n",
       "<style>\n",
       "    .dataframe thead tr:only-child th {\n",
       "        text-align: right;\n",
       "    }\n",
       "\n",
       "    .dataframe thead th {\n",
       "        text-align: left;\n",
       "    }\n",
       "\n",
       "    .dataframe tbody tr th {\n",
       "        vertical-align: top;\n",
       "    }\n",
       "</style>\n",
       "<table border=\"1\" class=\"dataframe\">\n",
       "  <thead>\n",
       "    <tr style=\"text-align: right;\">\n",
       "      <th></th>\n",
       "      <th>CUST_ID</th>\n",
       "      <th>TARGET</th>\n",
       "      <th>BNK_LNIF_CNT</th>\n",
       "      <th>CPT_LNIF_CNT</th>\n",
       "      <th>SPART_LNIF_CNT</th>\n",
       "      <th>ECT_LNIF_CNT</th>\n",
       "      <th>TOT_LNIF_AMT</th>\n",
       "      <th>TOT_CLIF_AMT</th>\n",
       "      <th>BNK_LNIF_AMT</th>\n",
       "      <th>CPT_LNIF_AMT</th>\n",
       "      <th>...</th>\n",
       "      <th>CBPT_MBSP_YN</th>\n",
       "      <th>MOBL_FATY_PRC</th>\n",
       "      <th>TEL_CNTT_QTR</th>\n",
       "      <th>NUM_DAY_SUSP</th>\n",
       "      <th>CRMM_OVDU_AMT</th>\n",
       "      <th>TLFE_UNPD_CNT</th>\n",
       "      <th>LT1Y_MXOD_AMT</th>\n",
       "      <th>PAYM_METD</th>\n",
       "      <th>LINE_STUS</th>\n",
       "      <th>MOBL_PRIN</th>\n",
       "    </tr>\n",
       "  </thead>\n",
       "  <tbody>\n",
       "    <tr>\n",
       "      <th>100228</th>\n",
       "      <td>102248</td>\n",
       "      <td>0</td>\n",
       "      <td>1</td>\n",
       "      <td>0</td>\n",
       "      <td>2</td>\n",
       "      <td>2</td>\n",
       "      <td>75001</td>\n",
       "      <td>15001</td>\n",
       "      <td>57001</td>\n",
       "      <td>0</td>\n",
       "      <td>...</td>\n",
       "      <td>N</td>\n",
       "      <td>0</td>\n",
       "      <td>20111</td>\n",
       "      <td>0</td>\n",
       "      <td>20000</td>\n",
       "      <td>0</td>\n",
       "      <td>0</td>\n",
       "      <td>R</td>\n",
       "      <td>U</td>\n",
       "      <td>0</td>\n",
       "    </tr>\n",
       "    <tr>\n",
       "      <th>100229</th>\n",
       "      <td>102249</td>\n",
       "      <td>0</td>\n",
       "      <td>2</td>\n",
       "      <td>0</td>\n",
       "      <td>0</td>\n",
       "      <td>0</td>\n",
       "      <td>54001</td>\n",
       "      <td>9001</td>\n",
       "      <td>54001</td>\n",
       "      <td>0</td>\n",
       "      <td>...</td>\n",
       "      <td>Y</td>\n",
       "      <td>900000</td>\n",
       "      <td>20134</td>\n",
       "      <td>0</td>\n",
       "      <td>0</td>\n",
       "      <td>0</td>\n",
       "      <td>0</td>\n",
       "      <td>K</td>\n",
       "      <td>U</td>\n",
       "      <td>180000</td>\n",
       "    </tr>\n",
       "    <tr>\n",
       "      <th>100230</th>\n",
       "      <td>102250</td>\n",
       "      <td>0</td>\n",
       "      <td>1</td>\n",
       "      <td>0</td>\n",
       "      <td>0</td>\n",
       "      <td>0</td>\n",
       "      <td>27001</td>\n",
       "      <td>27001</td>\n",
       "      <td>27001</td>\n",
       "      <td>0</td>\n",
       "      <td>...</td>\n",
       "      <td>N</td>\n",
       "      <td>0</td>\n",
       "      <td>20141</td>\n",
       "      <td>0</td>\n",
       "      <td>0</td>\n",
       "      <td>0</td>\n",
       "      <td>0</td>\n",
       "      <td>O</td>\n",
       "      <td>U</td>\n",
       "      <td>0</td>\n",
       "    </tr>\n",
       "    <tr>\n",
       "      <th>100231</th>\n",
       "      <td>102251</td>\n",
       "      <td>0</td>\n",
       "      <td>0</td>\n",
       "      <td>0</td>\n",
       "      <td>1</td>\n",
       "      <td>1</td>\n",
       "      <td>57001</td>\n",
       "      <td>0</td>\n",
       "      <td>0</td>\n",
       "      <td>0</td>\n",
       "      <td>...</td>\n",
       "      <td>N</td>\n",
       "      <td>900000</td>\n",
       "      <td>20103</td>\n",
       "      <td>0</td>\n",
       "      <td>0</td>\n",
       "      <td>0</td>\n",
       "      <td>0</td>\n",
       "      <td>O</td>\n",
       "      <td>U</td>\n",
       "      <td>540000</td>\n",
       "    </tr>\n",
       "    <tr>\n",
       "      <th>100232</th>\n",
       "      <td>102252</td>\n",
       "      <td>0</td>\n",
       "      <td>1</td>\n",
       "      <td>0</td>\n",
       "      <td>0</td>\n",
       "      <td>0</td>\n",
       "      <td>18001</td>\n",
       "      <td>18001</td>\n",
       "      <td>18001</td>\n",
       "      <td>0</td>\n",
       "      <td>...</td>\n",
       "      <td>N</td>\n",
       "      <td>400000</td>\n",
       "      <td>20151</td>\n",
       "      <td>0</td>\n",
       "      <td>0</td>\n",
       "      <td>0</td>\n",
       "      <td>60000</td>\n",
       "      <td>K</td>\n",
       "      <td>U</td>\n",
       "      <td>180000</td>\n",
       "    </tr>\n",
       "  </tbody>\n",
       "</table>\n",
       "<p>5 rows × 69 columns</p>\n",
       "</div>"
      ],
      "text/plain": [
       "        CUST_ID  TARGET  BNK_LNIF_CNT  CPT_LNIF_CNT  SPART_LNIF_CNT  \\\n",
       "100228   102248       0             1             0               2   \n",
       "100229   102249       0             2             0               0   \n",
       "100230   102250       0             1             0               0   \n",
       "100231   102251       0             0             0               1   \n",
       "100232   102252       0             1             0               0   \n",
       "\n",
       "        ECT_LNIF_CNT  TOT_LNIF_AMT  TOT_CLIF_AMT  BNK_LNIF_AMT  CPT_LNIF_AMT  \\\n",
       "100228             2         75001         15001         57001             0   \n",
       "100229             0         54001          9001         54001             0   \n",
       "100230             0         27001         27001         27001             0   \n",
       "100231             1         57001             0             0             0   \n",
       "100232             0         18001         18001         18001             0   \n",
       "\n",
       "          ...      CBPT_MBSP_YN  MOBL_FATY_PRC  TEL_CNTT_QTR  NUM_DAY_SUSP  \\\n",
       "100228    ...                 N              0         20111             0   \n",
       "100229    ...                 Y         900000         20134             0   \n",
       "100230    ...                 N              0         20141             0   \n",
       "100231    ...                 N         900000         20103             0   \n",
       "100232    ...                 N         400000         20151             0   \n",
       "\n",
       "        CRMM_OVDU_AMT  TLFE_UNPD_CNT LT1Y_MXOD_AMT  PAYM_METD  LINE_STUS  \\\n",
       "100228          20000              0             0          R          U   \n",
       "100229              0              0             0          K          U   \n",
       "100230              0              0             0          O          U   \n",
       "100231              0              0             0          O          U   \n",
       "100232              0              0         60000          K          U   \n",
       "\n",
       "        MOBL_PRIN  \n",
       "100228          0  \n",
       "100229     180000  \n",
       "100230          0  \n",
       "100231     540000  \n",
       "100232     180000  \n",
       "\n",
       "[5 rows x 69 columns]"
      ]
     },
     "execution_count": 35,
     "metadata": {},
     "output_type": "execute_result"
    }
   ],
   "source": [
    "train.tail()"
   ]
  },
  {
   "cell_type": "code",
   "execution_count": 5,
   "metadata": {},
   "outputs": [
    {
     "data": {
      "text/plain": [
       "(100233, 69)"
      ]
     },
     "execution_count": 5,
     "metadata": {},
     "output_type": "execute_result"
    }
   ],
   "source": [
    "train.shape"
   ]
  },
  {
   "cell_type": "markdown",
   "metadata": {
    "collapsed": true
   },
   "source": [
    "test = pd.read_csv('Test_set.csv', encoding='cp949')"
   ]
  },
  {
   "cell_type": "markdown",
   "metadata": {},
   "source": [
    "test.head()"
   ]
  },
  {
   "cell_type": "markdown",
   "metadata": {},
   "source": [
    "test.shape"
   ]
  },
  {
   "cell_type": "code",
   "execution_count": 25,
   "metadata": {},
   "outputs": [
    {
     "data": {
      "text/plain": [
       "0    95946\n",
       "1     4287\n",
       "Name: TARGET, dtype: int64"
      ]
     },
     "execution_count": 25,
     "metadata": {},
     "output_type": "execute_result"
    }
   ],
   "source": [
    "grouped = train['TARGET'].value_counts()\n",
    "grouped"
   ]
  },
  {
   "cell_type": "markdown",
   "metadata": {},
   "source": [
    "### 1. train 데이터로 주어진 고객 수 :100233명\n",
    "   * 대출연체 여부\n",
    "        - 0 (미발생): 95946명\n",
    "        - 1 (발생) : 4287명"
   ]
  },
  {
   "cell_type": "code",
   "execution_count": 34,
   "metadata": {},
   "outputs": [
    {
     "data": {
      "image/png": "[encoded data removed]",
      "text/plain": [
       "<matplotlib.figure.Figure at 0x10f521ef0>"
      ]
     },
     "metadata": {},
     "output_type": "display_data"
    }
   ],
   "source": [
    "sns.set_style('whitegrid')\n",
    "f, ax = plt.subplots(figsize=(5, 5))\n",
    "sns.barplot(grouped.index, grouped.values, palette='RdBu_r')\n",
    "plt.ylabel('Number of Person', fontsize=13)\n",
    "plt.xlabel('Loan delinquency 0(Not occurring) or 1(Occur)', fontsize=13)\n",
    "plt.ticklabel_format(style='plain', axis='y')\n",
    "plt.show()"
   ]
  },
  {
   "cell_type": "code",
   "execution_count": null,
   "metadata": {
    "collapsed": true
   },
   "outputs": [],
   "source": []
  },
  {
   "cell_type": "code",
   "execution_count": null,
   "metadata": {
    "collapsed": true
   },
   "outputs": [],
   "source": []
  }
 ],
 "metadata": {
  "kernelspec": {
   "display_name": "Python 3",
   "language": "python",
   "name": "python3"
  },
  "language_info": {
   "codemirror_mode": {
    "name": "ipython",
    "version": 3
   },
   "file_extension": ".py",
   "mimetype": "text/x-python",
   "name": "python",
   "nbconvert_exporter": "python",
   "pygments_lexer": "ipython3",
   "version": "3.6.2"
  }
 },
 "nbformat": 4,
 "nbformat_minor": 2
}
